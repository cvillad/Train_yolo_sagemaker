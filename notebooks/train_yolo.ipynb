{
 "cells": [
  {
   "cell_type": "code",
   "execution_count": 16,
   "metadata": {},
   "outputs": [
    {
     "name": "stdout",
     "output_type": "stream",
     "text": [
      "scripts/build_and_push.sh: line 1: ·!/bin/bash: No such file or directory\n",
      "ECR Login\n",
      "WARNING! Your password will be stored unencrypted in /home/ec2-user/.docker/config.json.\n",
      "Configure a credential helper to remove this warning. See\n",
      "https://docs.docker.com/engine/reference/commandline/login/#credentials-store\n",
      "\n",
      "Login Succeeded\n",
      "Building image\n",
      "Sending build context to Docker daemon  366.6kB\n",
      "Step 1/9 : FROM nvcr.io/nvidia/pytorch:20.08-py3\n",
      " ---> c710aa2340b4\n",
      "Step 2/9 : ENV PYTHONDONTWRITEBYTECODE=1\n",
      " ---> Using cache\n",
      " ---> 8b9d73b4d356\n",
      "Step 3/9 : ENV PYTHONUNBUFFERED=1\n",
      " ---> Using cache\n",
      " ---> 2053c99d2b7b\n",
      "Step 4/9 : RUN apt-get update && apt-get install -y --no-install-recommends nginx curl\n",
      " ---> Using cache\n",
      " ---> a43c5e2ca24a\n",
      "Step 5/9 : WORKDIR /opt/ml/\n",
      " ---> Using cache\n",
      " ---> de16effb574a\n",
      "Step 6/9 : RUN pip install sagemaker-training\n",
      " ---> Using cache\n",
      " ---> 78e1af9dbdaa\n",
      "Step 7/9 : COPY src/ /opt/ml/code\n",
      " ---> Using cache\n",
      " ---> 5de330c563a7\n",
      "Step 8/9 : ENV SAGEMAKER_PROGRAM train\n",
      " ---> Using cache\n",
      " ---> 98e9760ed3ff\n",
      "Step 9/9 : ENV PATH=\"/opt/ml/code:${PATH}\"\n",
      " ---> Using cache\n",
      " ---> 76cd8eb4aa33\n",
      "Successfully built 76cd8eb4aa33\n",
      "Successfully tagged train:latest\n",
      "Pushing to ECR\n",
      "The push refers to repository [430127992102.dkr.ecr.us-west-2.amazonaws.com/yolo_train]\n",
      "\n",
      "\u001b[1B9ad7181f: Preparing \n",
      "\u001b[1B1b75b18f: Preparing \n",
      "\u001b[1Bbbb6f74d: Preparing \n",
      "\u001b[1B10c03e18: Preparing \n",
      "\u001b[1B535cf0b1: Preparing \n",
      "\u001b[1Bf2fc23be: Preparing \n",
      "\u001b[1Bf1144bfa: Preparing \n",
      "\u001b[1B4a3f2ae3: Preparing \n",
      "\u001b[1B8bfdeee7: Preparing \n",
      "\u001b[1Bbedfd29d: Preparing \n",
      "\u001b[1B3a848754: Preparing \n",
      "\u001b[1B79876d58: Preparing \n",
      "\u001b[1B6cc777e6: Preparing \n",
      "\u001b[1B481d042b: Preparing \n",
      "\u001b[1B2d1617bd: Preparing \n",
      "\u001b[1B5b178613: Preparing \n",
      "\u001b[1B20ece1bb: Preparing \n",
      "\u001b[1Bd45c9936: Preparing \n",
      "\u001b[1Bbcc85b52: Preparing \n",
      "\u001b[1B1df9aa18: Preparing \n",
      "\u001b[1B757968f7: Preparing \n",
      "\u001b[1Bc8ca60ec: Preparing \n",
      "\u001b[1B01b6160f: Preparing \n",
      "\u001b[1B08e715aa: Preparing \n",
      "\u001b[1B38ca324c: Preparing \n",
      "\u001b[1B05efbb85: Preparing \n",
      "\u001b[1Bef29593c: Preparing \n",
      "\u001b[1Bc1b005d0: Preparing \n",
      "\u001b[1B3347c77e: Preparing \n",
      "\u001b[1B73b91957: Preparing \n",
      "\u001b[1B6bba3a54: Preparing \n",
      "\u001b[1Bd305b6fe: Preparing \n",
      "\u001b[1B34539c4b: Preparing \n",
      "\u001b[1B8e883ce0: Preparing \n",
      "\u001b[1B3105ea49: Preparing \n",
      "\u001b[1Bfd860433: Preparing \n",
      "\u001b[1B196d29b9: Preparing \n",
      "\u001b[1Bdc9d77d9: Preparing \n",
      "\u001b[1B87a0f336: Preparing \n",
      "\u001b[1B76287df5: Preparing \n",
      "\u001b[1B7aea68cd: Preparing \n",
      "\u001b[1B1ccf7ee0: Preparing \n",
      "\u001b[1B51c2f8ad: Preparing \n",
      "\u001b[1B2a1a6205: Preparing \n",
      "\u001b[1B546ec635: Preparing \n",
      "\u001b[1B8b3c8971: Preparing \n",
      "\u001b[1B3a2b059b: Preparing \n",
      "\u001b[1B30055b29: Preparing \n",
      "\u001b[1Bf1b5f44c: Preparing \n",
      "\u001b[1Bb917ef50: Preparing \n",
      "\u001b[1B3c4877ef: Preparing \n",
      "\u001b[1Bb71a5be7: Preparing \n",
      "\u001b[1B4487ecb7: Preparing \n",
      "\u001b[1B5173a9ae: Preparing \n",
      "\u001b[1Bc169ba53: Preparing \n",
      "\u001b[1B36b4dc3d: Preparing \n",
      "\u001b[1B877f8a1f: Preparing \n",
      "\u001b[1B146f5dbd: Preparing \n",
      "\u001b[1Bf9a74649: Preparing \n",
      "\u001b[1Bda143c91: Preparing \n",
      "\u001b[1B287e1f04: Preparing \n",
      "\u001b[2B287e1f04: Layer already exists \u001b[61A\u001b[2K\u001b[57A\u001b[2K\u001b[55A\u001b[2K\u001b[49A\u001b[2K\u001b[43A\u001b[2K\u001b[37A\u001b[2K\u001b[33A\u001b[2K\u001b[27A\u001b[2K\u001b[21A\u001b[2K\u001b[15A\u001b[2K\u001b[8A\u001b[2K\u001b[4A\u001b[2Klatest: digest: sha256:496343eaeb97c05510d18f7351bafd696fbeff85b5dfe061dceec14878040b74 size: 13338\n"
     ]
    }
   ],
   "source": [
    "!cd .. && scripts/build_and_push.sh"
   ]
  },
  {
   "cell_type": "code",
   "execution_count": 2,
   "metadata": {},
   "outputs": [],
   "source": [
    "from sagemaker.session import get_execution_role, Session\n",
    "import os\n",
    "\n",
    "sagemaker_role = get_execution_role()\n",
    "sagemaker_session = Session()"
   ]
  },
  {
   "cell_type": "code",
   "execution_count": 35,
   "metadata": {},
   "outputs": [],
   "source": [
    "s3_uri_data = 's3://sagemaker-us-west-2-256305374409/TiendaApp/data/'\n"
   ]
  },
  {
   "cell_type": "code",
   "execution_count": 37,
   "metadata": {},
   "outputs": [
    {
     "name": "stdout",
     "output_type": "stream",
     "text": [
      "{\n",
      "    \"repositories\": [\n",
      "        {\n",
      "            \"repositoryArn\": \"arn:aws:ecr:us-west-2:430127992102:repository/yolo_train\",\n",
      "            \"registryId\": \"430127992102\",\n",
      "            \"repositoryName\": \"yolo_train\",\n",
      "            \"repositoryUri\": \"430127992102.dkr.ecr.us-west-2.amazonaws.com/yolo_train\",\n",
      "            \"createdAt\": 1599690799.0,\n",
      "            \"imageTagMutability\": \"MUTABLE\",\n",
      "            \"imageScanningConfiguration\": {\n",
      "                \"scanOnPush\": false\n",
      "            },\n",
      "            \"encryptionConfiguration\": {\n",
      "                \"encryptionType\": \"AES256\"\n",
      "            }\n",
      "        }\n",
      "    ]\n",
      "}\n"
     ]
    }
   ],
   "source": [
    "!aws s3 ls $s3_uri\n",
    "!aws ecr describe-repositories --registry-id $account"
   ]
  },
  {
   "cell_type": "code",
   "execution_count": 7,
   "metadata": {},
   "outputs": [
    {
     "name": "stdout",
     "output_type": "stream",
     "text": [
      "Note: AWS CLI version 2, the latest major version of the AWS CLI, is now stable and recommended for general use. For more information, see the AWS CLI version 2 installation instructions at: https://docs.aws.amazon.com/cli/latest/userguide/install-cliv2.html\n",
      "\n",
      "usage: aws [options] <command> <subcommand> [<subcommand> ...] [parameters]\n",
      "To see help text, you can run:\n",
      "\n",
      "  aws help\n",
      "  aws <command> help\n",
      "  aws <command> <subcommand> help\n",
      "aws: error: argument subcommand: Invalid choice, valid choices are:\n",
      "\n",
      "ls                                       | website                                 \n",
      "cp                                       | mv                                      \n",
      "rm                                       | sync                                    \n",
      "mb                                       | rb                                      \n",
      "presign                                 \n"
     ]
    }
   ],
   "source": [
    "!aws s3 pwd"
   ]
  },
  {
   "cell_type": "code",
   "execution_count": 3,
   "metadata": {},
   "outputs": [
    {
     "name": "stdout",
     "output_type": "stream",
     "text": [
      "Training Job name : test-training-job-2020-09-10-14-27-43\n",
      "S3 uri input: s3://sagemaker-us-west-2-430127992102/TiendaApp/data/\n",
      "S3 uri output: s3://sagemaker-us-west-2-430127992102/TiendaApp/model/\n",
      "image uri: 430127992102.dkr.ecr.us-west-2.amazonaws.com/yolo-train\n",
      "{\n",
      "    \"repositories\": [\n",
      "        {\n",
      "            \"repositoryArn\": \"arn:aws:ecr:us-west-2:430127992102:repository/yolo_train\",\n",
      "            \"registryId\": \"430127992102\",\n",
      "            \"repositoryName\": \"yolo_train\",\n",
      "            \"repositoryUri\": \"430127992102.dkr.ecr.us-west-2.amazonaws.com/yolo_train\",\n",
      "            \"createdAt\": 1599690799.0,\n",
      "            \"imageTagMutability\": \"MUTABLE\",\n",
      "            \"imageScanningConfiguration\": {\n",
      "                \"scanOnPush\": false\n",
      "            },\n",
      "            \"encryptionConfiguration\": {\n",
      "                \"encryptionType\": \"AES256\"\n",
      "            }\n",
      "        }\n",
      "    ]\n",
      "}\n"
     ]
    }
   ],
   "source": [
    "from time import gmtime, strftime\n",
    "\n",
    "bucket_name = sagemaker_session.default_bucket()\n",
    "key_name = \"TiendaApp\"\n",
    "s3_uri_data = \"s3://{}/{}/{}/\".format(bucket_name, key_name, \"data\")\n",
    "s3_uri_output = \"s3://{}/{}/{}/\".format(bucket_name, key_name, \"model\")\n",
    "account = sagemaker_session.boto_session.client('sts').get_caller_identity()['Account']\n",
    "region = sagemaker_session.boto_session.region_name\n",
    "image_name = \"yolo-train\"\n",
    "image_uri = \"{0}.dkr.ecr.{1}.amazonaws.com/{2}\".format(account, region, image_name)\n",
    "#image_uri = \"registry.hub.docker.com/repository/docker/cvillad/{0}\".format(image_name)\n",
    "base_job_name = \"test-training-job-{}\".format(strftime(\"%Y-%m-%d-%H-%M-%S\", gmtime()))\n",
    "os.environ[\"account\"] = account\n",
    "os.environ[\"s3_uri\"] = s3_uri_data\n",
    "print(\"Training Job name : {}\".format(base_job_name))\n",
    "print(\"S3 uri input: {}\".format(s3_uri_data))\n",
    "print(\"S3 uri output: {}\".format(s3_uri_output))\n",
    "print(\"image uri: {}\".format(image_uri))\n",
    "!aws s3 ls $s3_uri\n",
    "!aws ecr describe-repositories --registry-id $account"
   ]
  },
  {
   "cell_type": "code",
   "execution_count": 4,
   "metadata": {},
   "outputs": [
    {
     "name": "stderr",
     "output_type": "stream",
     "text": [
      "Parameter image_name will be renamed to image_uri in SageMaker Python SDK v2.\n",
      "'s3_input' class will be renamed to 'TrainingInput' in SageMaker Python SDK v2.\n"
     ]
    },
    {
     "ename": "ClientError",
     "evalue": "An error occurred (ValidationException) when calling the CreateTrainingJob operation: No S3 objects found under S3 URL \"s3://sagemaker-us-west-2-430127992102/TiendaApp/data/\" given in input data source. Please ensure that the bucket exists in the selected region (us-west-2), that objects exist under that S3 prefix, and that the role \"arn:aws:iam::430127992102:role/service-role/AmazonSageMaker-ExecutionRole-20200821T105315\" has \"s3:ListBucket\" permissions on bucket \"sagemaker-us-west-2-430127992102\".",
     "output_type": "error",
     "traceback": [
      "\u001b[0;31m---------------------------------------------------------------------------\u001b[0m",
      "\u001b[0;31mClientError\u001b[0m                               Traceback (most recent call last)",
      "\u001b[0;32m<ipython-input-4-54241071f0a5>\u001b[0m in \u001b[0;36m<module>\u001b[0;34m\u001b[0m\n\u001b[1;32m     13\u001b[0m \u001b[0;34m\u001b[0m\u001b[0m\n\u001b[1;32m     14\u001b[0m \u001b[0;34m\u001b[0m\u001b[0m\n\u001b[0;32m---> 15\u001b[0;31m \u001b[0myolov3_estimator\u001b[0m\u001b[0;34m.\u001b[0m\u001b[0mfit\u001b[0m\u001b[0;34m(\u001b[0m\u001b[0minputs\u001b[0m\u001b[0;34m=\u001b[0m\u001b[0;34m{\u001b[0m\u001b[0;34m\"yolo_data\"\u001b[0m\u001b[0;34m:\u001b[0m \u001b[0ms3_uri_data\u001b[0m\u001b[0;34m}\u001b[0m\u001b[0;34m,\u001b[0m \u001b[0mjob_name\u001b[0m\u001b[0;34m=\u001b[0m\u001b[0mbase_job_name\u001b[0m\u001b[0;34m,\u001b[0m \u001b[0mwait\u001b[0m\u001b[0;34m=\u001b[0m\u001b[0;32mTrue\u001b[0m\u001b[0;34m)\u001b[0m\u001b[0;34m\u001b[0m\u001b[0;34m\u001b[0m\u001b[0m\n\u001b[0m",
      "\u001b[0;32m~/anaconda3/envs/python3/lib/python3.6/site-packages/sagemaker/estimator.py\u001b[0m in \u001b[0;36mfit\u001b[0;34m(self, inputs, wait, logs, job_name, experiment_config)\u001b[0m\n\u001b[1;32m    494\u001b[0m         \u001b[0mself\u001b[0m\u001b[0;34m.\u001b[0m\u001b[0m_prepare_for_training\u001b[0m\u001b[0;34m(\u001b[0m\u001b[0mjob_name\u001b[0m\u001b[0;34m=\u001b[0m\u001b[0mjob_name\u001b[0m\u001b[0;34m)\u001b[0m\u001b[0;34m\u001b[0m\u001b[0;34m\u001b[0m\u001b[0m\n\u001b[1;32m    495\u001b[0m \u001b[0;34m\u001b[0m\u001b[0m\n\u001b[0;32m--> 496\u001b[0;31m         \u001b[0mself\u001b[0m\u001b[0;34m.\u001b[0m\u001b[0mlatest_training_job\u001b[0m \u001b[0;34m=\u001b[0m \u001b[0m_TrainingJob\u001b[0m\u001b[0;34m.\u001b[0m\u001b[0mstart_new\u001b[0m\u001b[0;34m(\u001b[0m\u001b[0mself\u001b[0m\u001b[0;34m,\u001b[0m \u001b[0minputs\u001b[0m\u001b[0;34m,\u001b[0m \u001b[0mexperiment_config\u001b[0m\u001b[0;34m)\u001b[0m\u001b[0;34m\u001b[0m\u001b[0;34m\u001b[0m\u001b[0m\n\u001b[0m\u001b[1;32m    497\u001b[0m         \u001b[0mself\u001b[0m\u001b[0;34m.\u001b[0m\u001b[0mjobs\u001b[0m\u001b[0;34m.\u001b[0m\u001b[0mappend\u001b[0m\u001b[0;34m(\u001b[0m\u001b[0mself\u001b[0m\u001b[0;34m.\u001b[0m\u001b[0mlatest_training_job\u001b[0m\u001b[0;34m)\u001b[0m\u001b[0;34m\u001b[0m\u001b[0;34m\u001b[0m\u001b[0m\n\u001b[1;32m    498\u001b[0m         \u001b[0;32mif\u001b[0m \u001b[0mwait\u001b[0m\u001b[0;34m:\u001b[0m\u001b[0;34m\u001b[0m\u001b[0;34m\u001b[0m\u001b[0m\n",
      "\u001b[0;32m~/anaconda3/envs/python3/lib/python3.6/site-packages/sagemaker/estimator.py\u001b[0m in \u001b[0;36mstart_new\u001b[0;34m(cls, estimator, inputs, experiment_config)\u001b[0m\n\u001b[1;32m   1089\u001b[0m             \u001b[0mtrain_args\u001b[0m\u001b[0;34m[\u001b[0m\u001b[0;34m\"enable_sagemaker_metrics\"\u001b[0m\u001b[0;34m]\u001b[0m \u001b[0;34m=\u001b[0m \u001b[0mestimator\u001b[0m\u001b[0;34m.\u001b[0m\u001b[0menable_sagemaker_metrics\u001b[0m\u001b[0;34m\u001b[0m\u001b[0;34m\u001b[0m\u001b[0m\n\u001b[1;32m   1090\u001b[0m \u001b[0;34m\u001b[0m\u001b[0m\n\u001b[0;32m-> 1091\u001b[0;31m         \u001b[0mestimator\u001b[0m\u001b[0;34m.\u001b[0m\u001b[0msagemaker_session\u001b[0m\u001b[0;34m.\u001b[0m\u001b[0mtrain\u001b[0m\u001b[0;34m(\u001b[0m\u001b[0;34m**\u001b[0m\u001b[0mtrain_args\u001b[0m\u001b[0;34m)\u001b[0m\u001b[0;34m\u001b[0m\u001b[0;34m\u001b[0m\u001b[0m\n\u001b[0m\u001b[1;32m   1092\u001b[0m \u001b[0;34m\u001b[0m\u001b[0m\n\u001b[1;32m   1093\u001b[0m         \u001b[0;32mreturn\u001b[0m \u001b[0mcls\u001b[0m\u001b[0;34m(\u001b[0m\u001b[0mestimator\u001b[0m\u001b[0;34m.\u001b[0m\u001b[0msagemaker_session\u001b[0m\u001b[0;34m,\u001b[0m \u001b[0mestimator\u001b[0m\u001b[0;34m.\u001b[0m\u001b[0m_current_job_name\u001b[0m\u001b[0;34m)\u001b[0m\u001b[0;34m\u001b[0m\u001b[0;34m\u001b[0m\u001b[0m\n",
      "\u001b[0;32m~/anaconda3/envs/python3/lib/python3.6/site-packages/sagemaker/session.py\u001b[0m in \u001b[0;36mtrain\u001b[0;34m(self, input_mode, input_config, role, job_name, output_config, resource_config, vpc_config, hyperparameters, stop_condition, tags, metric_definitions, enable_network_isolation, image, algorithm_arn, encrypt_inter_container_traffic, train_use_spot_instances, checkpoint_s3_uri, checkpoint_local_path, experiment_config, debugger_rule_configs, debugger_hook_config, tensorboard_output_config, enable_sagemaker_metrics)\u001b[0m\n\u001b[1;32m    588\u001b[0m         \u001b[0mLOGGER\u001b[0m\u001b[0;34m.\u001b[0m\u001b[0minfo\u001b[0m\u001b[0;34m(\u001b[0m\u001b[0;34m\"Creating training-job with name: %s\"\u001b[0m\u001b[0;34m,\u001b[0m \u001b[0mjob_name\u001b[0m\u001b[0;34m)\u001b[0m\u001b[0;34m\u001b[0m\u001b[0;34m\u001b[0m\u001b[0m\n\u001b[1;32m    589\u001b[0m         \u001b[0mLOGGER\u001b[0m\u001b[0;34m.\u001b[0m\u001b[0mdebug\u001b[0m\u001b[0;34m(\u001b[0m\u001b[0;34m\"train request: %s\"\u001b[0m\u001b[0;34m,\u001b[0m \u001b[0mjson\u001b[0m\u001b[0;34m.\u001b[0m\u001b[0mdumps\u001b[0m\u001b[0;34m(\u001b[0m\u001b[0mtrain_request\u001b[0m\u001b[0;34m,\u001b[0m \u001b[0mindent\u001b[0m\u001b[0;34m=\u001b[0m\u001b[0;36m4\u001b[0m\u001b[0;34m)\u001b[0m\u001b[0;34m)\u001b[0m\u001b[0;34m\u001b[0m\u001b[0;34m\u001b[0m\u001b[0m\n\u001b[0;32m--> 590\u001b[0;31m         \u001b[0mself\u001b[0m\u001b[0;34m.\u001b[0m\u001b[0msagemaker_client\u001b[0m\u001b[0;34m.\u001b[0m\u001b[0mcreate_training_job\u001b[0m\u001b[0;34m(\u001b[0m\u001b[0;34m**\u001b[0m\u001b[0mtrain_request\u001b[0m\u001b[0;34m)\u001b[0m\u001b[0;34m\u001b[0m\u001b[0;34m\u001b[0m\u001b[0m\n\u001b[0m\u001b[1;32m    591\u001b[0m \u001b[0;34m\u001b[0m\u001b[0m\n\u001b[1;32m    592\u001b[0m     def process(\n",
      "\u001b[0;32m~/anaconda3/envs/python3/lib/python3.6/site-packages/botocore/client.py\u001b[0m in \u001b[0;36m_api_call\u001b[0;34m(self, *args, **kwargs)\u001b[0m\n\u001b[1;32m    335\u001b[0m                     \"%s() only accepts keyword arguments.\" % py_operation_name)\n\u001b[1;32m    336\u001b[0m             \u001b[0;31m# The \"self\" in this scope is referring to the BaseClient.\u001b[0m\u001b[0;34m\u001b[0m\u001b[0;34m\u001b[0m\u001b[0;34m\u001b[0m\u001b[0m\n\u001b[0;32m--> 337\u001b[0;31m             \u001b[0;32mreturn\u001b[0m \u001b[0mself\u001b[0m\u001b[0;34m.\u001b[0m\u001b[0m_make_api_call\u001b[0m\u001b[0;34m(\u001b[0m\u001b[0moperation_name\u001b[0m\u001b[0;34m,\u001b[0m \u001b[0mkwargs\u001b[0m\u001b[0;34m)\u001b[0m\u001b[0;34m\u001b[0m\u001b[0;34m\u001b[0m\u001b[0m\n\u001b[0m\u001b[1;32m    338\u001b[0m \u001b[0;34m\u001b[0m\u001b[0m\n\u001b[1;32m    339\u001b[0m         \u001b[0m_api_call\u001b[0m\u001b[0;34m.\u001b[0m\u001b[0m__name__\u001b[0m \u001b[0;34m=\u001b[0m \u001b[0mstr\u001b[0m\u001b[0;34m(\u001b[0m\u001b[0mpy_operation_name\u001b[0m\u001b[0;34m)\u001b[0m\u001b[0;34m\u001b[0m\u001b[0;34m\u001b[0m\u001b[0m\n",
      "\u001b[0;32m~/anaconda3/envs/python3/lib/python3.6/site-packages/botocore/client.py\u001b[0m in \u001b[0;36m_make_api_call\u001b[0;34m(self, operation_name, api_params)\u001b[0m\n\u001b[1;32m    654\u001b[0m             \u001b[0merror_code\u001b[0m \u001b[0;34m=\u001b[0m \u001b[0mparsed_response\u001b[0m\u001b[0;34m.\u001b[0m\u001b[0mget\u001b[0m\u001b[0;34m(\u001b[0m\u001b[0;34m\"Error\"\u001b[0m\u001b[0;34m,\u001b[0m \u001b[0;34m{\u001b[0m\u001b[0;34m}\u001b[0m\u001b[0;34m)\u001b[0m\u001b[0;34m.\u001b[0m\u001b[0mget\u001b[0m\u001b[0;34m(\u001b[0m\u001b[0;34m\"Code\"\u001b[0m\u001b[0;34m)\u001b[0m\u001b[0;34m\u001b[0m\u001b[0;34m\u001b[0m\u001b[0m\n\u001b[1;32m    655\u001b[0m             \u001b[0merror_class\u001b[0m \u001b[0;34m=\u001b[0m \u001b[0mself\u001b[0m\u001b[0;34m.\u001b[0m\u001b[0mexceptions\u001b[0m\u001b[0;34m.\u001b[0m\u001b[0mfrom_code\u001b[0m\u001b[0;34m(\u001b[0m\u001b[0merror_code\u001b[0m\u001b[0;34m)\u001b[0m\u001b[0;34m\u001b[0m\u001b[0;34m\u001b[0m\u001b[0m\n\u001b[0;32m--> 656\u001b[0;31m             \u001b[0;32mraise\u001b[0m \u001b[0merror_class\u001b[0m\u001b[0;34m(\u001b[0m\u001b[0mparsed_response\u001b[0m\u001b[0;34m,\u001b[0m \u001b[0moperation_name\u001b[0m\u001b[0;34m)\u001b[0m\u001b[0;34m\u001b[0m\u001b[0;34m\u001b[0m\u001b[0m\n\u001b[0m\u001b[1;32m    657\u001b[0m         \u001b[0;32melse\u001b[0m\u001b[0;34m:\u001b[0m\u001b[0;34m\u001b[0m\u001b[0;34m\u001b[0m\u001b[0m\n\u001b[1;32m    658\u001b[0m             \u001b[0;32mreturn\u001b[0m \u001b[0mparsed_response\u001b[0m\u001b[0;34m\u001b[0m\u001b[0;34m\u001b[0m\u001b[0m\n",
      "\u001b[0;31mClientError\u001b[0m: An error occurred (ValidationException) when calling the CreateTrainingJob operation: No S3 objects found under S3 URL \"s3://sagemaker-us-west-2-430127992102/TiendaApp/data/\" given in input data source. Please ensure that the bucket exists in the selected region (us-west-2), that objects exist under that S3 prefix, and that the role \"arn:aws:iam::430127992102:role/service-role/AmazonSageMaker-ExecutionRole-20200821T105315\" has \"s3:ListBucket\" permissions on bucket \"sagemaker-us-west-2-430127992102\"."
     ]
    }
   ],
   "source": [
    "from sagemaker.estimator import Estimator\n",
    "\n",
    "yolov3_estimator = Estimator(image_name=image_uri, \n",
    "                            role=sagemaker_role,\n",
    "                            train_instance_count=1,\n",
    "                            train_instance_type=\"ml.m5.large\",\n",
    "                            train_volume_size=35,\n",
    "                            sagemaker_session=sagemaker_session,\n",
    "                            base_job_name = base_job_name,\n",
    "                            hyperparameters={\"test\": \"this is a test\", \"batch\": 32},\n",
    "                            tags=[{\"Key\": \"Name\", \"Value\": \"test-job\"},\n",
    "                                 {\"Key\": \"Description\", \"Value\": \"Test training job\"}])\n",
    "\n",
    "\n",
    "yolov3_estimator.fit(inputs={\"yolo_data\": s3_uri_data}, job_name=base_job_name, wait=True)"
   ]
  }
 ],
 "metadata": {
  "kernelspec": {
   "display_name": "conda_python3",
   "language": "python",
   "name": "conda_python3"
  },
  "language_info": {
   "codemirror_mode": {
    "name": "ipython",
    "version": 3
   },
   "file_extension": ".py",
   "mimetype": "text/x-python",
   "name": "python",
   "nbconvert_exporter": "python",
   "pygments_lexer": "ipython3",
   "version": "3.6.10"
  }
 },
 "nbformat": 4,
 "nbformat_minor": 4
}
